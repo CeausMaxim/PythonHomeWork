{
 "cells": [
  {
   "cell_type": "code",
   "execution_count": 1,
   "id": "d8241b22",
   "metadata": {},
   "outputs": [],
   "source": [
    "import numpy as np\n",
    "import pandas as pd\n",
    "import matplotlib.pyplot as plt\n",
    "import seaborn as sns"
   ]
  },
  {
   "cell_type": "code",
   "execution_count": 3,
   "id": "934e23d8",
   "metadata": {},
   "outputs": [],
   "source": [
    "from sklearn.neighbors import KNeighborsRegressor\n",
    "from sklearn.tree import DecisionTreeRegressor, ExtraTreeRegressor\n",
    "from sklearn.svm import SVR\n",
    "from sklearn.linear_model import LinearRegression"
   ]
  },
  {
   "cell_type": "code",
   "execution_count": 5,
   "id": "049352df",
   "metadata": {},
   "outputs": [],
   "source": [
    "models = [\n",
    "    KNeighborsRegressor(),\n",
    "    DecisionTreeRegressor(),\n",
    "    ExtraTreeRegressor(),\n",
    "    SVR(),\n",
    "    LinearRegression()\n",
    "]"
   ]
  },
  {
   "cell_type": "code",
   "execution_count": 6,
   "id": "221ccb6f",
   "metadata": {},
   "outputs": [],
   "source": [
    "from sklearn.model_selection import train_test_split\n",
    "from sklearn.metrics import mean_absolute_error, mean_squared_error\n",
    "from sklearn.preprocessing import StandardScaler"
   ]
  },
  {
   "cell_type": "code",
   "execution_count": 15,
   "id": "98ecf144",
   "metadata": {},
   "outputs": [],
   "source": [
    "def test_model(df, models, target):\n",
    "    X = df.drop([target], axis = 1).values\n",
    "    Y = df[target].values\n",
    "    # impartim setul de date de doua subseturi\n",
    "    # unul testare\n",
    "    # al doilea atrenare\n",
    "    X_train, X_test, Y_train, Y_test = train_test_split(X, Y, random_state=42)\n",
    "    \n",
    "    # definim dictionarul pentru a calcula eroarea\n",
    "    mse, mae, mse_normalized, mae_normalized = {}, {}, {}, {}\n",
    "    scaler = StandardScaler()\n",
    "    \n",
    "    # antrenam setul de date pentru toate modelele\n",
    "    for i in range(len(models)):\n",
    "        models[i].fit(X_train, Y_train)\n",
    "        Y_pred = models[i].predict(X_test)\n",
    "        \n",
    "        mae[str(models[i].__class__())] = mean_absolute_error(Y_pred, Y_test)\n",
    "        mse[str(models[i].__class__())] = mean_squared_error(Y_pred, Y_test)\n",
    "        # tranformam datele\n",
    "        X_train_norm = scaler.fit_transform(X_train)\n",
    "        X_test_norm = scaler.transform(X_test)\n",
    "        \n",
    "        models[i].fit(X_train_norm, Y_train)\n",
    "        Y_pred = models[i].predict(X_test_norm)\n",
    "        \n",
    "        mae_normalized[str(models[i].__class__())] = mean_absolute_error(Y_pred, Y_test)\n",
    "        mse_normalized[str(models[i].__class__())] = mean_squared_error(Y_pred, Y_test)\n",
    "        \n",
    "    return mse, mae, mse_normalized, mae_normalized "
   ]
  },
  {
   "cell_type": "code",
   "execution_count": 16,
   "id": "ccbb9e42",
   "metadata": {},
   "outputs": [],
   "source": [
    "# citim datele din fisiere\n",
    "df_init = pd.read_csv('innitial.csv')\n",
    "df_selected = pd.read_csv('selected.csv')"
   ]
  },
  {
   "cell_type": "code",
   "execution_count": 17,
   "id": "95d3d6fb",
   "metadata": {},
   "outputs": [],
   "source": [
    "mse, mae, mse_normalized, mae_normalized  = test_model(df_init, models, 'rating_score')"
   ]
  },
  {
   "cell_type": "code",
   "execution_count": 18,
   "id": "d304cd06",
   "metadata": {},
   "outputs": [
    {
     "data": {
      "text/plain": [
       "{'KNeighborsRegressor()': 0.7567351293678314,\n",
       " 'DecisionTreeRegressor()': 0.9033634526805193,\n",
       " 'ExtraTreeRegressor()': 0.9021694002227966,\n",
       " 'SVR()': 0.7118137108677769,\n",
       " 'LinearRegression()': 0.7416181792623813}"
      ]
     },
     "execution_count": 18,
     "metadata": {},
     "output_type": "execute_result"
    }
   ],
   "source": [
    "mae"
   ]
  },
  {
   "cell_type": "code",
   "execution_count": 19,
   "id": "0995c4b6",
   "metadata": {},
   "outputs": [
    {
     "data": {
      "text/plain": [
       "{'KNeighborsRegressor()': 0.9155934915977595,\n",
       " 'DecisionTreeRegressor()': 1.5111012255730198,\n",
       " 'ExtraTreeRegressor()': 1.5080743015112714,\n",
       " 'SVR()': 0.8795294819284698,\n",
       " 'LinearRegression()': 0.8324234592323836}"
      ]
     },
     "execution_count": 19,
     "metadata": {},
     "output_type": "execute_result"
    }
   ],
   "source": [
    "mse"
   ]
  },
  {
   "cell_type": "code",
   "execution_count": 20,
   "id": "6c7b0039",
   "metadata": {},
   "outputs": [
    {
     "data": {
      "text/plain": [
       "{'KNeighborsRegressor()': 0.9193758335556148,\n",
       " 'DecisionTreeRegressor()': 1.5208476764784467,\n",
       " 'ExtraTreeRegressor()': 1.547665232242978,\n",
       " 'SVR()': 0.8577404362407383,\n",
       " 'LinearRegression()': 0.8324234592323838}"
      ]
     },
     "execution_count": 20,
     "metadata": {},
     "output_type": "execute_result"
    }
   ],
   "source": [
    "mse_normalized"
   ]
  },
  {
   "cell_type": "code",
   "execution_count": 21,
   "id": "f5f03282",
   "metadata": {},
   "outputs": [
    {
     "data": {
      "text/plain": [
       "{'KNeighborsRegressor()': 0.7573486263003468,\n",
       " 'DecisionTreeRegressor()': 0.9054351162352451,\n",
       " 'ExtraTreeRegressor()': 0.926219594271657,\n",
       " 'SVR()': 0.7075277352645728,\n",
       " 'LinearRegression()': 0.7416181792623809}"
      ]
     },
     "execution_count": 21,
     "metadata": {},
     "output_type": "execute_result"
    }
   ],
   "source": [
    "mae_normalized"
   ]
  },
  {
   "cell_type": "code",
   "execution_count": 23,
   "id": "d05e640a",
   "metadata": {},
   "outputs": [
    {
     "data": {
      "text/plain": [
       "<matplotlib.legend.Legend at 0x2a3b78ecc40>"
      ]
     },
     "execution_count": 23,
     "metadata": {},
     "output_type": "execute_result"
    },
    {
     "data": {
      "image/png": "[encoded data removed]",
      "text/plain": [
       "<Figure size 1368x432 with 1 Axes>"
      ]
     },
     "metadata": {
      "needs_background": "light"
     },
     "output_type": "display_data"
    }
   ],
   "source": [
    "plt.figure(figsize=(19, 6))\n",
    "plt.bar(mse.keys(), mse.values(), label = 'non-norm')\n",
    "plt.bar(mse_normalized.keys(), mse_normalized.values(), width = 0.2, label = 'norm')\n",
    "plt.legend()"
   ]
  },
  {
   "cell_type": "code",
   "execution_count": 24,
   "id": "eaa34c12",
   "metadata": {},
   "outputs": [],
   "source": [
    "mse, mae, mse_normalized, mae_normalized  = test_model(df_selected, models, 'rating_score')"
   ]
  },
  {
   "cell_type": "code",
   "execution_count": 25,
   "id": "206299cd",
   "metadata": {},
   "outputs": [
    {
     "data": {
      "text/plain": [
       "<matplotlib.legend.Legend at 0x2a3b738fd90>"
      ]
     },
     "execution_count": 25,
     "metadata": {},
     "output_type": "execute_result"
    },
    {
     "data": {
      "image/png": "[encoded data removed]",
      "text/plain": [
       "<Figure size 1368x432 with 1 Axes>"
      ]
     },
     "metadata": {
      "needs_background": "light"
     },
     "output_type": "display_data"
    }
   ],
   "source": [
    "plt.figure(figsize=(19, 6))\n",
    "plt.bar(mse.keys(), mse.values(), label = 'non-norm')\n",
    "plt.bar(mse_normalized.keys(), mse_normalized.values(), width = 0.2, label = 'norm')\n",
    "plt.legend()"
   ]
  },
  {
   "cell_type": "code",
   "execution_count": 26,
   "id": "bf0ffebc",
   "metadata": {},
   "outputs": [
    {
     "data": {
      "text/plain": [
       "{'KNeighborsRegressor()': 0.9063750333422246,\n",
       " 'DecisionTreeRegressor()': 1.0048694554614659,\n",
       " 'ExtraTreeRegressor()': 1.0122246173732665,\n",
       " 'SVR()': 0.8632576403188827,\n",
       " 'LinearRegression()': 0.8322757183960529}"
      ]
     },
     "execution_count": 26,
     "metadata": {},
     "output_type": "execute_result"
    }
   ],
   "source": [
    "mse"
   ]
  },
  {
   "cell_type": "code",
   "execution_count": 27,
   "id": "fae81092",
   "metadata": {},
   "outputs": [
    {
     "data": {
      "text/plain": [
       "{'KNeighborsRegressor()': 0.7501200320085357,\n",
       " 'DecisionTreeRegressor()': 0.7641955453585096,\n",
       " 'ExtraTreeRegressor()': 0.769806203621531,\n",
       " 'SVR()': 0.7137977978593515,\n",
       " 'LinearRegression()': 0.7416929966108433}"
      ]
     },
     "execution_count": 27,
     "metadata": {},
     "output_type": "execute_result"
    }
   ],
   "source": [
    "mae"
   ]
  },
  {
   "cell_type": "code",
   "execution_count": 28,
   "id": "9c3681ea",
   "metadata": {},
   "outputs": [
    {
     "data": {
      "text/plain": [
       "{'KNeighborsRegressor()': 0.9097199253134169,\n",
       " 'DecisionTreeRegressor()': 1.0061715075920572,\n",
       " 'ExtraTreeRegressor()': 0.9988420827564349,\n",
       " 'SVR()': 0.8471716654161345,\n",
       " 'LinearRegression()': 0.8322757183960529}"
      ]
     },
     "execution_count": 28,
     "metadata": {},
     "output_type": "execute_result"
    }
   ],
   "source": [
    "mse_normalized"
   ]
  },
  {
   "cell_type": "code",
   "execution_count": 29,
   "id": "fdc1375e",
   "metadata": {},
   "outputs": [
    {
     "data": {
      "text/plain": [
       "{'KNeighborsRegressor()': 0.7504667911443053,\n",
       " 'DecisionTreeRegressor()': 0.7646240576751193,\n",
       " 'ExtraTreeRegressor()': 0.7641090998812808,\n",
       " 'SVR()': 0.7040241093498096,\n",
       " 'LinearRegression()': 0.7416929966108439}"
      ]
     },
     "execution_count": 29,
     "metadata": {},
     "output_type": "execute_result"
    }
   ],
   "source": [
    "mae_normalized"
   ]
  },
  {
   "cell_type": "code",
   "execution_count": 30,
   "id": "ba0f6585",
   "metadata": {},
   "outputs": [],
   "source": [
    "from sklearn.pipeline import Pipeline"
   ]
  },
  {
   "cell_type": "code",
   "execution_count": 32,
   "id": "13d847ea",
   "metadata": {},
   "outputs": [],
   "source": [
    "pipe = Pipeline(\n",
    "[\n",
    "    ('scaler', StandardScaler()),\n",
    "    ('linear_model', LinearRegression())\n",
    "])"
   ]
  },
  {
   "cell_type": "code",
   "execution_count": 33,
   "id": "6f311da8",
   "metadata": {},
   "outputs": [],
   "source": [
    "X = df_selected.drop(['rating_score'], axis = 1).values\n",
    "Y = df_selected['rating_score'].values"
   ]
  },
  {
   "cell_type": "code",
   "execution_count": 34,
   "id": "5996f185",
   "metadata": {},
   "outputs": [
    {
     "data": {
      "text/plain": [
       "Pipeline(steps=[('scaler', StandardScaler()),\n",
       "                ('linear_model', LinearRegression())])"
      ]
     },
     "execution_count": 34,
     "metadata": {},
     "output_type": "execute_result"
    }
   ],
   "source": [
    "pipe.fit(X, Y)"
   ]
  },
  {
   "cell_type": "code",
   "execution_count": 35,
   "id": "b8f7d7d0",
   "metadata": {},
   "outputs": [],
   "source": [
    "import pickle"
   ]
  },
  {
   "cell_type": "code",
   "execution_count": 36,
   "id": "d0a24abf",
   "metadata": {},
   "outputs": [],
   "source": [
    "pickle.dump(pipe, open('pipe.pkl', 'wb'))"
   ]
  },
  {
   "cell_type": "code",
   "execution_count": 37,
   "id": "4987a1e2",
   "metadata": {},
   "outputs": [
    {
     "data": {
      "text/html": [
       "<div>\n",
       "<style scoped>\n",
       "    .dataframe tbody tr th:only-of-type {\n",
       "        vertical-align: middle;\n",
       "    }\n",
       "\n",
       "    .dataframe tbody tr th {\n",
       "        vertical-align: top;\n",
       "    }\n",
       "\n",
       "    .dataframe thead th {\n",
       "        text-align: right;\n",
       "    }\n",
       "</style>\n",
       "<table border=\"1\" class=\"dataframe\">\n",
       "  <thead>\n",
       "    <tr style=\"text-align: right;\">\n",
       "      <th></th>\n",
       "      <th>critic_likes</th>\n",
       "      <th>critic_comments</th>\n",
       "      <th>movie_release_year</th>\n",
       "      <th>movie_popularity</th>\n",
       "      <th>avg_list_comments</th>\n",
       "      <th>rating_score</th>\n",
       "    </tr>\n",
       "  </thead>\n",
       "  <tbody>\n",
       "    <tr>\n",
       "      <th>0</th>\n",
       "      <td>0</td>\n",
       "      <td>0</td>\n",
       "      <td>2005.0</td>\n",
       "      <td>1.0</td>\n",
       "      <td>1.923077</td>\n",
       "      <td>2.0</td>\n",
       "    </tr>\n",
       "    <tr>\n",
       "      <th>1</th>\n",
       "      <td>0</td>\n",
       "      <td>0</td>\n",
       "      <td>2005.0</td>\n",
       "      <td>1.0</td>\n",
       "      <td>0.416667</td>\n",
       "      <td>2.0</td>\n",
       "    </tr>\n",
       "    <tr>\n",
       "      <th>2</th>\n",
       "      <td>0</td>\n",
       "      <td>0</td>\n",
       "      <td>2005.0</td>\n",
       "      <td>1.0</td>\n",
       "      <td>0.200000</td>\n",
       "      <td>3.0</td>\n",
       "    </tr>\n",
       "    <tr>\n",
       "      <th>3</th>\n",
       "      <td>0</td>\n",
       "      <td>0</td>\n",
       "      <td>2005.0</td>\n",
       "      <td>1.0</td>\n",
       "      <td>0.166667</td>\n",
       "      <td>3.0</td>\n",
       "    </tr>\n",
       "    <tr>\n",
       "      <th>4</th>\n",
       "      <td>0</td>\n",
       "      <td>0</td>\n",
       "      <td>2005.0</td>\n",
       "      <td>1.0</td>\n",
       "      <td>0.466667</td>\n",
       "      <td>4.0</td>\n",
       "    </tr>\n",
       "    <tr>\n",
       "      <th>...</th>\n",
       "      <td>...</td>\n",
       "      <td>...</td>\n",
       "      <td>...</td>\n",
       "      <td>...</td>\n",
       "      <td>...</td>\n",
       "      <td>...</td>\n",
       "    </tr>\n",
       "    <tr>\n",
       "      <th>29986</th>\n",
       "      <td>0</td>\n",
       "      <td>0</td>\n",
       "      <td>1957.0</td>\n",
       "      <td>9.0</td>\n",
       "      <td>0.000000</td>\n",
       "      <td>1.0</td>\n",
       "    </tr>\n",
       "    <tr>\n",
       "      <th>29987</th>\n",
       "      <td>0</td>\n",
       "      <td>0</td>\n",
       "      <td>1957.0</td>\n",
       "      <td>9.0</td>\n",
       "      <td>0.000000</td>\n",
       "      <td>4.0</td>\n",
       "    </tr>\n",
       "    <tr>\n",
       "      <th>29988</th>\n",
       "      <td>0</td>\n",
       "      <td>0</td>\n",
       "      <td>1957.0</td>\n",
       "      <td>9.0</td>\n",
       "      <td>0.000000</td>\n",
       "      <td>2.0</td>\n",
       "    </tr>\n",
       "    <tr>\n",
       "      <th>29989</th>\n",
       "      <td>0</td>\n",
       "      <td>0</td>\n",
       "      <td>1957.0</td>\n",
       "      <td>9.0</td>\n",
       "      <td>0.000000</td>\n",
       "      <td>2.0</td>\n",
       "    </tr>\n",
       "    <tr>\n",
       "      <th>29990</th>\n",
       "      <td>0</td>\n",
       "      <td>0</td>\n",
       "      <td>1957.0</td>\n",
       "      <td>9.0</td>\n",
       "      <td>0.000000</td>\n",
       "      <td>3.0</td>\n",
       "    </tr>\n",
       "  </tbody>\n",
       "</table>\n",
       "<p>29991 rows × 6 columns</p>\n",
       "</div>"
      ],
      "text/plain": [
       "       critic_likes  critic_comments  movie_release_year  movie_popularity  \\\n",
       "0                 0                0              2005.0               1.0   \n",
       "1                 0                0              2005.0               1.0   \n",
       "2                 0                0              2005.0               1.0   \n",
       "3                 0                0              2005.0               1.0   \n",
       "4                 0                0              2005.0               1.0   \n",
       "...             ...              ...                 ...               ...   \n",
       "29986             0                0              1957.0               9.0   \n",
       "29987             0                0              1957.0               9.0   \n",
       "29988             0                0              1957.0               9.0   \n",
       "29989             0                0              1957.0               9.0   \n",
       "29990             0                0              1957.0               9.0   \n",
       "\n",
       "       avg_list_comments  rating_score  \n",
       "0               1.923077           2.0  \n",
       "1               0.416667           2.0  \n",
       "2               0.200000           3.0  \n",
       "3               0.166667           3.0  \n",
       "4               0.466667           4.0  \n",
       "...                  ...           ...  \n",
       "29986           0.000000           1.0  \n",
       "29987           0.000000           4.0  \n",
       "29988           0.000000           2.0  \n",
       "29989           0.000000           2.0  \n",
       "29990           0.000000           3.0  \n",
       "\n",
       "[29991 rows x 6 columns]"
      ]
     },
     "execution_count": 37,
     "metadata": {},
     "output_type": "execute_result"
    }
   ],
   "source": [
    "df_selected"
   ]
  },
  {
   "cell_type": "code",
   "execution_count": 38,
   "id": "509c65c3",
   "metadata": {},
   "outputs": [
    {
     "data": {
      "text/plain": [
       "array([ 0.0837054 , -0.0373423 , -0.10074845,  0.22092385, -0.02189592])"
      ]
     },
     "execution_count": 38,
     "metadata": {},
     "output_type": "execute_result"
    }
   ],
   "source": [
    "pipe['linear_model'].coef_"
   ]
  },
  {
   "cell_type": "code",
   "execution_count": 39,
   "id": "1a3338de",
   "metadata": {},
   "outputs": [],
   "source": [
    "coef_names = list(df_selected.iloc[:, :-1].columns)\n",
    "coef_values = list(pipe['linear_model'].coef_)"
   ]
  },
  {
   "cell_type": "code",
   "execution_count": 42,
   "id": "cb2bcbc6",
   "metadata": {},
   "outputs": [
    {
     "data": {
      "text/plain": [
       "<BarContainer object of 5 artists>"
      ]
     },
     "execution_count": 42,
     "metadata": {},
     "output_type": "execute_result"
    },
    {
     "data": {
      "image/png": "[encoded data removed]",
      "text/plain": [
       "<Figure size 1152x648 with 1 Axes>"
      ]
     },
     "metadata": {
      "needs_background": "light"
     },
     "output_type": "display_data"
    }
   ],
   "source": [
    "plt.figure(figsize=(16, 9))\n",
    "plt.bar(coef_names, coef_values)"
   ]
  },
  {
   "cell_type": "code",
   "execution_count": null,
   "id": "333ada00",
   "metadata": {},
   "outputs": [],
   "source": []
  }
 ],
 "metadata": {
  "kernelspec": {
   "display_name": "Python 3 (ipykernel)",
   "language": "python",
   "name": "python3"
  },
  "language_info": {
   "codemirror_mode": {
    "name": "ipython",
    "version": 3
   },
   "file_extension": ".py",
   "mimetype": "text/x-python",
   "name": "python",
   "nbconvert_exporter": "python",
   "pygments_lexer": "ipython3",
   "version": "3.9.7"
  }
 },
 "nbformat": 4,
 "nbformat_minor": 5
}
